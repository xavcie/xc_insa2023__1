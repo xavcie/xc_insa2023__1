{
 "cells": [
  {
   "cell_type": "markdown",
   "metadata": {},
   "source": [
    "## 0) Import some libraries"
   ]
  },
  {
   "cell_type": "code",
   "execution_count": 511,
   "metadata": {},
   "outputs": [],
   "source": [
    "#the very standard libs\n",
    "import pandas as pd\n",
    "import numpy as np\n",
    "import time\n",
    "\n",
    "# tensorflow and scikit libraries to play with neural network\n",
    "import tensorflow as tf\n",
    "from tensorflow import keras\n",
    "from tensorflow.keras.models import Sequential, load_model, Model\n",
    "from tensorflow.keras.layers import Input, Dense, Dropout, Activation, LeakyReLU\n",
    "\n",
    "from sklearn.preprocessing import MinMaxScaler\n",
    "from sklearn.model_selection import StratifiedKFold, KFold, RepeatedKFold, train_test_split\n",
    "from sklearn.metrics import mean_absolute_error, mean_squared_error, mean_absolute_percentage_error\n",
    "from sklearn.linear_model import LinearRegression\n",
    "# from tensorflow.keras.optimizers import RMSprop, Adam\n",
    "# from tensorflow.keras.layers import BatchNormalization\n",
    "# import tensorflow.keras.backend as K\n",
    "# from tensorflow.keras.datasets import mnist\n",
    "\n",
    "# use matplotlib to get nice graphs...\n",
    "import matplotlib.pyplot as plt\n",
    "\n",
    "# to get dynamlc plots\n",
    "from IPython import display"
   ]
  },
  {
   "cell_type": "markdown",
   "metadata": {},
   "source": [
    "## 1) let's define some functions to work with "
   ]
  },
  {
   "cell_type": "code",
   "execution_count": 513,
   "metadata": {},
   "outputs": [],
   "source": [
    "# define an array of \"x\" values and a corrresponding array of 'y' calculated from x\n",
    "x1, y1 = [0,1], [1,0]\n",
    "# x = np.arange(-50, 50, 0.1)\n",
    "# y0 = 2*x + 25\n",
    "# y1 = 0.1*x**3 - 80*np.sin(x/4)\n",
    "# y2 = 0.2*x**3 + 3000*np.sin(x/6) - 1000*(x*[x>20]).reshape(len(x),)\n",
    "# y3 = 0.002*x**4 + 2000*np.log(x + 600)\n",
    "# y4 = 1+20000*np.sign(x)"
   ]
  },
  {
   "cell_type": "code",
   "execution_count": 514,
   "metadata": {},
   "outputs": [
    {
     "data": {
      "image/png": "[encoded data removed]",
      "text/plain": [
       "<Figure size 432x288 with 1 Axes>"
      ]
     },
     "metadata": {
      "needs_background": "light"
     },
     "output_type": "display_data"
    }
   ],
   "source": [
    "plt.scatter(x1, y1, marker = 'x', s=10, c = 'blue');\n",
    "# plt.scatter(x, y1, marker = 'x', s=0.1, c = 'red');\n",
    "# plt.scatter(x, y2, marker = 'x', s=0.1, c = 'green');\n",
    "# plt.scatter(x, y3, marker = 'x', s=0.1, c = 'orange');\n",
    "# plt.scatter(x, y4, marker = 'x', s=0.1, c = 'grey');"
   ]
  },
  {
   "cell_type": "code",
   "execution_count": 515,
   "metadata": {},
   "outputs": [
    {
     "name": "stdout",
     "output_type": "stream",
     "text": [
      "*** xy dataframe:\n",
      "    x  y\n",
      "0  0  1\n",
      "1  1  0\n",
      "\n",
      "*** xy.info():\n",
      "\n",
      "<class 'pandas.core.frame.DataFrame'>\n",
      "RangeIndex: 2 entries, 0 to 1\n",
      "Data columns (total 2 columns):\n",
      " #   Column  Non-Null Count  Dtype\n",
      "---  ------  --------------  -----\n",
      " 0   x       2 non-null      int64\n",
      " 1   y       2 non-null      int64\n",
      "dtypes: int64(2)\n",
      "memory usage: 160.0 bytes\n",
      "\n",
      "*** xy.describe():\n",
      "               x         y\n",
      "count  2.000000  2.000000\n",
      "mean   0.500000  0.500000\n",
      "std    0.707107  0.707107\n",
      "min    0.000000  0.000000\n",
      "25%    0.250000  0.250000\n",
      "50%    0.500000  0.500000\n",
      "75%    0.750000  0.750000\n",
      "max    1.000000  1.000000\n"
     ]
    },
    {
     "data": {
      "image/png": "[encoded data removed]",
      "text/plain": [
       "<Figure size 720x360 with 1 Axes>"
      ]
     },
     "metadata": {
      "needs_background": "light"
     },
     "output_type": "display_data"
    }
   ],
   "source": [
    "#select the y array to be fiited , get some info and plot the function\n",
    "x = x1\n",
    "y = y1\n",
    "\n",
    "xy = pd.DataFrame({'x': x, 'y':y})\n",
    "print('*** xy dataframe:\\n', xy)\n",
    "print('\\n*** xy.info():\\n')\n",
    "xy.info()\n",
    "print('\\n*** xy.describe():\\n', xy.describe())\n",
    "\n",
    "#plot xy\n",
    "plt.figure(figsize =(10, 5))\n",
    "plt.title('the function to be fitted')\n",
    "plt.scatter(x, y, marker = 'x', s=10, c = 'blue');\n"
   ]
  },
  {
   "cell_type": "code",
   "execution_count": 516,
   "metadata": {},
   "outputs": [],
   "source": [
    "# add some \"gussian\" noise...\n",
    "sd = 0 \n",
    "noi = np.random.normal(0, sd, size = len(x))\n",
    "y = y + noi"
   ]
  },
  {
   "cell_type": "code",
   "execution_count": 517,
   "metadata": {},
   "outputs": [
    {
     "data": {
      "image/png": "[encoded data removed]",
      "text/plain": [
       "<Figure size 432x288 with 2 Axes>"
      ]
     },
     "metadata": {
      "needs_background": "light"
     },
     "output_type": "display_data"
    }
   ],
   "source": [
    "# plot noise and its histogram, \n",
    "plt.subplot(121)\n",
    "plt.scatter(x, noi, marker = 'x', s=40, c = 'blue');\n",
    "plt.subplot(122)\n",
    "plt.hist(noi, np.arange(-3*sd, 3*sd, len(x)/200), color='r');"
   ]
  },
  {
   "cell_type": "code",
   "execution_count": 518,
   "metadata": {},
   "outputs": [
    {
     "data": {
      "image/png": "[encoded data removed]",
      "text/plain": [
       "<Figure size 432x288 with 1 Axes>"
      ]
     },
     "metadata": {
      "needs_background": "light"
     },
     "output_type": "display_data"
    }
   ],
   "source": [
    "#plot x with/out noise\n",
    "plt.scatter(x, y, marker = 'x', s=0.1, c = 'r');\n",
    "plt.scatter(x, y - noi, marker = 'x', s=0.1, c = 'c', linewidth = 0.2);"
   ]
  },
  {
   "cell_type": "code",
   "execution_count": null,
   "metadata": {},
   "outputs": [],
   "source": []
  },
  {
   "cell_type": "markdown",
   "metadata": {},
   "source": [
    "## 2) Design the Neural Network model"
   ]
  },
  {
   "cell_type": "code",
   "execution_count": 519,
   "metadata": {},
   "outputs": [],
   "source": [
    "# function to design the neural network model\n",
    "# here we can play with the layer number, neuron number per layer, activation function type\n",
    "# and also the learning rate, the loss metric\n",
    "\n",
    "def nn_model():\n",
    "    #following line to clear/reset the model\n",
    "    tf.keras.backend.clear_session()\n",
    "\n",
    "    my_model = Sequential()\n",
    "    #input layer\n",
    "    my_model.add(Dense(1, input_dim = 1, activation = 'sigmoid',use_bias=True,\n",
    "#                        bias_initializer=\"ones\", #optional. can be \"zeros\"\n",
    "                       kernel_initializer=\"glorot_uniform\",\n",
    "                      ))\n",
    "\n",
    "    #hidden layers (optional)\n",
    "#     my_model.add(Dense(32, activation = 'relu'))\n",
    "#     my_model.add(Dense(32, activation = 'sigmoid'))\n",
    "#     my_model.add(Dense(25, activation = 'relu'))\n",
    "#     my_model.add(Dense(32, activation = 'relu'))\n",
    "#     my_model.add(Dense(32, activation = 'sigmoid'))\n",
    "#     my_model.add(Dense(32, activation = 'sigmoid'))\n",
    "#     my_model.add(Dense(10, activation = 'sigmoid'))\n",
    "#     my_model.add(Dense(32, activation = 'relu'))\n",
    "\n",
    "    #output layer\n",
    "#     my_model.add(Dense(1, activation = 'linear'))\n",
    "\n",
    "    #select the optimizer and define the learning rate\n",
    "    opt = keras.optimizers.Adam(learning_rate = 0.03)\n",
    "#     opt = keras.optimizers.RMSprop(learning_rate = 0.03)\n",
    "\n",
    "    # define the loss function and optimization metrics\n",
    "    my_model.compile(loss='mean_squared_error', metrics = ['mse', 'mean_absolute_error', 'mean_absolute_percentage_error'], optimizer = opt)\n",
    "\n",
    "    # Display model architecture summary \n",
    "\n",
    "    return my_model"
   ]
  },
  {
   "cell_type": "code",
   "execution_count": 520,
   "metadata": {},
   "outputs": [],
   "source": [
    "#function to return sigmoid(z)\n",
    "def zf(z):\n",
    "    return 1 / (1 + np.exp(-z))\n",
    "#function to return some model output\n",
    "def neur1(_model, x0, x1, p):\n",
    "    _xy = np.array([x0, x1])\n",
    "    _v = _xy * _model.get_weights()[0][0][0] + _model.get_weights()[1][0]\n",
    "    _v_out = zf(_v)\n",
    "    if p: print('w, b',_model.get_weights()[0][0][0],_model.get_weights()[1][0],'\\nz=',_v,'\\ng(z)=', _v_out)\n",
    "    return _v, _v_out\n",
    "def neur1_val(_model, x0, x1, exp0, exp1, *p):\n",
    "    _expxy = np.array([exp0, exp1])\n",
    "    _xy = np.array([x0, x1])\n",
    "    _wg = np.array([_model.get_weights()[0][0][0], _model.get_weights()[1][0]])\n",
    "    _v = _xy * _wg[0] + _wg[1]\n",
    "    _v_out = zf(_v)\n",
    "    _rmse = np.mean(abs(_v_out - [exp0,exp1]))\n",
    "    _mse = np.mean((_v_out - [exp0 , exp1])**2)\n",
    "    if p: print('[x1,x0]', '[w, b]','[z0, z1]', '[g(z0), g(z1)]', 'mse')\n",
    "\n",
    "    return _xy, _wg, _v, _v_out, _mse, _expxy\n"
   ]
  },
  {
   "cell_type": "markdown",
   "metadata": {},
   "source": [
    "### set \"my_model\" and plot the results"
   ]
  },
  {
   "cell_type": "code",
   "execution_count": 521,
   "metadata": {},
   "outputs": [
    {
     "name": "stdout",
     "output_type": "stream",
     "text": [
      "Model: \"sequential\"\n",
      "_________________________________________________________________\n",
      "Layer (type)                 Output Shape              Param #   \n",
      "=================================================================\n",
      "dense (Dense)                (None, 1)                 2         \n",
      "=================================================================\n",
      "Total params: 2\n",
      "Trainable params: 2\n",
      "Non-trainable params: 0\n",
      "_________________________________________________________________\n"
     ]
    }
   ],
   "source": [
    "#assign a model to \"my model\", print summary\n",
    "my_model = nn_model()\n",
    "my_model.summary()"
   ]
  },
  {
   "cell_type": "code",
   "execution_count": 522,
   "metadata": {},
   "outputs": [
    {
     "name": "stdout",
     "output_type": "stream",
     "text": [
      "<tf.Variable 'dense/kernel:0' shape=(1, 1) dtype=float32>\n",
      "<tf.Variable 'dense/bias:0' shape=(1,) dtype=float32>\n"
     ]
    },
    {
     "data": {
      "text/plain": [
       "(-0.76920605, 0.0)"
      ]
     },
     "execution_count": 522,
     "metadata": {},
     "output_type": "execute_result"
    }
   ],
   "source": [
    "# to look at weight and bias\n",
    "for i in my_model.trainable_variables:\n",
    "    print (i)\n",
    "my_model.get_weights()\n",
    "my_model.get_weights()[0][0][0], my_model.get_weights()[1][0]"
   ]
  },
  {
   "cell_type": "code",
   "execution_count": 523,
   "metadata": {},
   "outputs": [],
   "source": [
    "#lets initiate the model (no training cycle yet)\n",
    "y_pred = my_model.predict(xy.x)\n",
    "\n",
    "#define xy_pred as the output of the model\n",
    "xy_pred = pd.DataFrame({'x': xy.x, 'y': xy.y, 'y_pred':y_pred.reshape(y_pred.shape[0],)})"
   ]
  },
  {
   "cell_type": "code",
   "execution_count": 524,
   "metadata": {},
   "outputs": [
    {
     "data": {
      "text/html": [
       "<div>\n",
       "<style scoped>\n",
       "    .dataframe tbody tr th:only-of-type {\n",
       "        vertical-align: middle;\n",
       "    }\n",
       "\n",
       "    .dataframe tbody tr th {\n",
       "        vertical-align: top;\n",
       "    }\n",
       "\n",
       "    .dataframe thead th {\n",
       "        text-align: right;\n",
       "    }\n",
       "</style>\n",
       "<table border=\"1\" class=\"dataframe\">\n",
       "  <thead>\n",
       "    <tr style=\"text-align: right;\">\n",
       "      <th></th>\n",
       "      <th>x</th>\n",
       "      <th>y</th>\n",
       "      <th>y_pred</th>\n",
       "    </tr>\n",
       "  </thead>\n",
       "  <tbody>\n",
       "    <tr>\n",
       "      <th>0</th>\n",
       "      <td>0</td>\n",
       "      <td>1</td>\n",
       "      <td>0.500000</td>\n",
       "    </tr>\n",
       "    <tr>\n",
       "      <th>1</th>\n",
       "      <td>1</td>\n",
       "      <td>0</td>\n",
       "      <td>0.316651</td>\n",
       "    </tr>\n",
       "  </tbody>\n",
       "</table>\n",
       "</div>"
      ],
      "text/plain": [
       "   x  y    y_pred\n",
       "0  0  1  0.500000\n",
       "1  1  0  0.316651"
      ]
     },
     "execution_count": 524,
     "metadata": {},
     "output_type": "execute_result"
    }
   ],
   "source": [
    "xy_pred"
   ]
  },
  {
   "cell_type": "code",
   "execution_count": 525,
   "metadata": {},
   "outputs": [
    {
     "data": {
      "text/plain": [
       "0.5"
      ]
     },
     "execution_count": 525,
     "metadata": {},
     "output_type": "execute_result"
    }
   ],
   "source": [
    "xy_pred.y_pred[0]"
   ]
  },
  {
   "cell_type": "code",
   "execution_count": 526,
   "metadata": {},
   "outputs": [
    {
     "name": "stdout",
     "output_type": "stream",
     "text": [
      "[x1,x0] [w, b] [z0, z1] [g(z0), g(z1)] mse\n"
     ]
    },
    {
     "data": {
      "text/plain": [
       "(array([0, 1]),\n",
       " array([-0.76920605,  0.        ], dtype=float32),\n",
       " array([ 0.        , -0.76920605]),\n",
       " array([0.5       , 0.31665088]),\n",
       " 0.17513388966436916,\n",
       " array([1, 0]))"
      ]
     },
     "execution_count": 526,
     "metadata": {},
     "output_type": "execute_result"
    }
   ],
   "source": [
    "#same, using the neur1_val function\n",
    "neur1_val(my_model, 0, 1, 1, 0, 1)"
   ]
  },
  {
   "cell_type": "code",
   "execution_count": 527,
   "metadata": {},
   "outputs": [
    {
     "data": {
      "image/png": "[encoded data removed]",
      "text/plain": [
       "<Figure size 432x288 with 1 Axes>"
      ]
     },
     "metadata": {
      "needs_background": "light"
     },
     "output_type": "display_data"
    }
   ],
   "source": [
    "#let's plot the y and predicted at start...\n",
    "plt.title('The function to be fit and the model before training')\n",
    "plt.plot(xy_pred.x, xy_pred.y, c='b', marker='o', linewidth = 0.2, markersize=10)\n",
    "plt.legend(['y=f(x)','nn fit'], loc='center left')\n",
    "plt.yticks(c='b')\n",
    "# plt.twinx()\n",
    "plt.plot(xy_pred.x, xy_pred.y_pred, c='r', marker='x', linewidth = 0.2, markersize=10)\n",
    "plt.annotate(xy = [xy_pred.x[0], xy_pred.y_pred[0]] ,  text=xy_pred.y_pred[0])\n",
    "plt.annotate(xy = [xy_pred.x[1], xy_pred.y_pred[1]] ,  text=xy_pred.y_pred[1])\n",
    "\n",
    "plt.legend(['nn fit'],loc='center right')\n",
    "plt.legend(['y=f(x)','nn fit'], loc='center left')\n",
    "plt.yticks(c='r');"
   ]
  },
  {
   "cell_type": "markdown",
   "metadata": {},
   "source": [
    "### let's train the model with N cycles"
   ]
  },
  {
   "cell_type": "code",
   "execution_count": 528,
   "metadata": {},
   "outputs": [
    {
     "name": "stdout",
     "output_type": "stream",
     "text": [
      "training time(s) = 2.85\n"
     ]
    },
    {
     "data": {
      "text/html": [
       "<div>\n",
       "<style scoped>\n",
       "    .dataframe tbody tr th:only-of-type {\n",
       "        vertical-align: middle;\n",
       "    }\n",
       "\n",
       "    .dataframe tbody tr th {\n",
       "        vertical-align: top;\n",
       "    }\n",
       "\n",
       "    .dataframe thead th {\n",
       "        text-align: right;\n",
       "    }\n",
       "</style>\n",
       "<table border=\"1\" class=\"dataframe\">\n",
       "  <thead>\n",
       "    <tr style=\"text-align: right;\">\n",
       "      <th></th>\n",
       "      <th>loss</th>\n",
       "      <th>mean_squared_error</th>\n",
       "      <th>mean_absolute_error</th>\n",
       "      <th>mean_absolute_percentage_error</th>\n",
       "    </tr>\n",
       "  </thead>\n",
       "  <tbody>\n",
       "    <tr>\n",
       "      <th>995</th>\n",
       "      <td>0.000469</td>\n",
       "      <td>0.000469</td>\n",
       "      <td>0.021215</td>\n",
       "      <td>8428628.0</td>\n",
       "    </tr>\n",
       "    <tr>\n",
       "      <th>996</th>\n",
       "      <td>0.000468</td>\n",
       "      <td>0.000468</td>\n",
       "      <td>0.021194</td>\n",
       "      <td>8418440.0</td>\n",
       "    </tr>\n",
       "    <tr>\n",
       "      <th>997</th>\n",
       "      <td>0.000467</td>\n",
       "      <td>0.000467</td>\n",
       "      <td>0.021173</td>\n",
       "      <td>8408642.0</td>\n",
       "    </tr>\n",
       "    <tr>\n",
       "      <th>998</th>\n",
       "      <td>0.000467</td>\n",
       "      <td>0.000467</td>\n",
       "      <td>0.021155</td>\n",
       "      <td>8397288.0</td>\n",
       "    </tr>\n",
       "    <tr>\n",
       "      <th>999</th>\n",
       "      <td>0.000465</td>\n",
       "      <td>0.000465</td>\n",
       "      <td>0.021132</td>\n",
       "      <td>8393324.0</td>\n",
       "    </tr>\n",
       "  </tbody>\n",
       "</table>\n",
       "</div>"
      ],
      "text/plain": [
       "         loss  mean_squared_error  mean_absolute_error  \\\n",
       "995  0.000469            0.000469             0.021215   \n",
       "996  0.000468            0.000468             0.021194   \n",
       "997  0.000467            0.000467             0.021173   \n",
       "998  0.000467            0.000467             0.021155   \n",
       "999  0.000465            0.000465             0.021132   \n",
       "\n",
       "     mean_absolute_percentage_error  \n",
       "995                       8428628.0  \n",
       "996                       8418440.0  \n",
       "997                       8408642.0  \n",
       "998                       8397288.0  \n",
       "999                       8393324.0  "
      ]
     },
     "execution_count": 528,
     "metadata": {},
     "output_type": "execute_result"
    }
   ],
   "source": [
    "#now let's \"train\" the model by playing with epochs (N)\n",
    "t0 = time.time()\n",
    "hist = my_model.fit(xy.x, xy.y, epochs = 1000, initial_epoch = 0, batch_size = 1, verbose = 0);\n",
    "print('training time(s) =', round(time.time() - t0, 2))\n",
    "pd.DataFrame.from_dict(hist.history)[-5:]\n"
   ]
  },
  {
   "cell_type": "code",
   "execution_count": 529,
   "metadata": {},
   "outputs": [
    {
     "data": {
      "text/plain": [
       "[array([[-7.716102]], dtype=float32), array([3.6446922], dtype=float32)]"
      ]
     },
     "execution_count": 529,
     "metadata": {},
     "output_type": "execute_result"
    }
   ],
   "source": [
    "my_model.get_weights()"
   ]
  },
  {
   "cell_type": "code",
   "execution_count": 530,
   "metadata": {},
   "outputs": [
    {
     "name": "stdout",
     "output_type": "stream",
     "text": [
      "[x1,x0] [w, b] [z0, z1] [g(z0), g(z1)] mse\n"
     ]
    },
    {
     "data": {
      "text/plain": [
       "(array([1, 0]),\n",
       " array([-7.716102 ,  3.6446922], dtype=float32),\n",
       " array([-4.07140994,  3.64469218]),\n",
       " array([0.01676739, 0.97453591]),\n",
       " 0.00046478255890213075,\n",
       " array([0, 1]))"
      ]
     },
     "execution_count": 530,
     "metadata": {},
     "output_type": "execute_result"
    }
   ],
   "source": [
    "neur1_val(my_model, 1, 0, 0, 1, 1)"
   ]
  },
  {
   "cell_type": "code",
   "execution_count": 531,
   "metadata": {},
   "outputs": [
    {
     "data": {
      "image/png": "[encoded data removed]",
      "text/plain": [
       "<Figure size 864x360 with 2 Axes>"
      ]
     },
     "metadata": {
      "needs_background": "light"
     },
     "output_type": "display_data"
    }
   ],
   "source": [
    "history_df = pd.DataFrame.from_dict(hist.history)\n",
    "# sns.lineplot(data=history_df['root_mean_squared_error'])\n",
    "plt.figure(figsize=(12,5))\n",
    "plt.subplot(121)\n",
    "plt.plot(history_df.loss, c = 'grey')\n",
    "plt.plot(history_df.loss[-50:], c = 'orange')\n",
    "plt.yscale('log')\n",
    "plt.xlabel(\"epochs\")\n",
    "plt.ylabel(\"LOG RMSE\", c='r');\n",
    "plt.subplot(122)\n",
    "plt.plot(history_df.loss[-20:], c='orange')\n",
    "# plt.yscale('log')\n",
    "plt.xlabel(\"last 20 epochs\")\n",
    "plt.ylabel(\"RMSE\", c='orange');"
   ]
  },
  {
   "cell_type": "code",
   "execution_count": 532,
   "metadata": {},
   "outputs": [
    {
     "name": "stdout",
     "output_type": "stream",
     "text": [
      "\n",
      "    MSE: 0.000 \n",
      "   RMSE: 0.022\n"
     ]
    },
    {
     "data": {
      "image/png": "[encoded data removed]",
      "text/plain": [
       "<Figure size 720x360 with 1 Axes>"
      ]
     },
     "metadata": {
      "needs_background": "light"
     },
     "output_type": "display_data"
    }
   ],
   "source": [
    "# make predictions for the input data\n",
    "y_pred = my_model.predict(xy.x)\n",
    "xy_pred = pd.DataFrame({'x': xy.x, 'y': xy.y, 'y_pred':y_pred.reshape(y_pred.shape[0],)})\n",
    "\n",
    "\n",
    "#mse = ((xy_pred['y_pred']-y_mod)**2).mean()\n",
    "mse = mean_squared_error(xy_pred['y'], xy_pred['y_pred'])\n",
    "print('\\n    MSE: %.3f' % mse, '\\n   RMSE: %.3f' % mse**0.5)\n",
    "\n",
    "x_plot = xy_pred.x\n",
    "y_plot = xy_pred.y\n",
    "y_pred_plot = xy_pred.y_pred \n",
    "\n",
    "plt.figure(figsize=(10,5))\n",
    "\n",
    "plt.scatter(x_plot, y_plot , label='expected', s = 50, marker = 'o', c = 'r')\n",
    "plt.scatter(x_plot,y_pred_plot , label='predicted', marker = 'o', color = 'g', facecolor = 'none', s = 500)\n",
    "plt.title('Input (x) versus Output (y) and Residue')\n",
    "plt.xlabel('Input Variable (x)')\n",
    "plt.ylabel('Output Variable (y)')\n",
    "plt.legend(loc='center', bbox_to_anchor = (1.15, 1))\n",
    "plt.show()"
   ]
  },
  {
   "cell_type": "code",
   "execution_count": null,
   "metadata": {},
   "outputs": [],
   "source": []
  },
  {
   "cell_type": "markdown",
   "metadata": {},
   "source": [
    "## to see what happen during the training, let's make some loops"
   ]
  },
  {
   "cell_type": "code",
   "execution_count": 533,
   "metadata": {},
   "outputs": [],
   "source": [
    "def test_epoch(x, y, ep, ini, sc = 0):\n",
    "    hist = my_model.fit(x, y, epochs = ep, initial_epoch = ini, batch_size = 32, verbose = 0);\n",
    "    history_df = (pd.DataFrame.from_dict(hist.history))\n",
    "    return history_df\n"
   ]
  },
  {
   "cell_type": "code",
   "execution_count": 534,
   "metadata": {},
   "outputs": [],
   "source": [
    "#reset model and train with ep=N step\n",
    "ep = 0\n",
    "my_model = nn_model()\n",
    "loss0 = np.mean((neur1_val(my_model, 0, 1, 1, 0)[4]))\n",
    "mae0 = np.mean(abs(neur1_val(my_model, 0, 1, 1, 0 )[3]-neur1_val(my_model, 0, 1, 1, 0)[5]))\n",
    "full_hist = pd.DataFrame([[loss0, loss0, mae0, 100]],columns=['loss', 'mean_squared_error', 'mean_absolute_error',\n",
    "       'mean_absolute_percentage_error'])\n",
    "full_hist = full_hist.append(test_epoch(xy.x, xy.y, ep = ep, ini = 0)).reset_index(drop = True)\n",
    "xy_plot_hist = pd.DataFrame(xy.x)\n",
    "xy_plot_hist['0'] = xy.x * 0\n",
    "y_pred_hist = pd.DataFrame([neur1_val(my_model, 0, 1, 1, 0)[3]])\n",
    "xywbl_hist = pd.DataFrame([[neur1_val(my_model, 1, 0, 0, 1)[3][1],neur1_val(my_model, 1, 0, 0, 1)[3][0],neur1_val(my_model, 1, 0, 0, 1)[1][0],neur1_val(my_model, 1, 0, 0, 1)[1][1],loss0]], columns=['x0','x1','w', 'b', 'l'])"
   ]
  },
  {
   "cell_type": "code",
   "execution_count": 535,
   "metadata": {},
   "outputs": [
    {
     "data": {
      "text/html": [
       "<div>\n",
       "<style scoped>\n",
       "    .dataframe tbody tr th:only-of-type {\n",
       "        vertical-align: middle;\n",
       "    }\n",
       "\n",
       "    .dataframe tbody tr th {\n",
       "        vertical-align: top;\n",
       "    }\n",
       "\n",
       "    .dataframe thead th {\n",
       "        text-align: right;\n",
       "    }\n",
       "</style>\n",
       "<table border=\"1\" class=\"dataframe\">\n",
       "  <thead>\n",
       "    <tr style=\"text-align: right;\">\n",
       "      <th></th>\n",
       "      <th>x</th>\n",
       "      <th>y</th>\n",
       "    </tr>\n",
       "  </thead>\n",
       "  <tbody>\n",
       "    <tr>\n",
       "      <th>0</th>\n",
       "      <td>0</td>\n",
       "      <td>1</td>\n",
       "    </tr>\n",
       "    <tr>\n",
       "      <th>1</th>\n",
       "      <td>1</td>\n",
       "      <td>0</td>\n",
       "    </tr>\n",
       "  </tbody>\n",
       "</table>\n",
       "</div>"
      ],
      "text/plain": [
       "   x  y\n",
       "0  0  1\n",
       "1  1  0"
      ]
     },
     "execution_count": 535,
     "metadata": {},
     "output_type": "execute_result"
    }
   ],
   "source": [
    "xy"
   ]
  },
  {
   "cell_type": "code",
   "execution_count": 536,
   "metadata": {},
   "outputs": [
    {
     "data": {
      "text/html": [
       "<div>\n",
       "<style scoped>\n",
       "    .dataframe tbody tr th:only-of-type {\n",
       "        vertical-align: middle;\n",
       "    }\n",
       "\n",
       "    .dataframe tbody tr th {\n",
       "        vertical-align: top;\n",
       "    }\n",
       "\n",
       "    .dataframe thead th {\n",
       "        text-align: right;\n",
       "    }\n",
       "</style>\n",
       "<table border=\"1\" class=\"dataframe\">\n",
       "  <thead>\n",
       "    <tr style=\"text-align: right;\">\n",
       "      <th></th>\n",
       "      <th>loss</th>\n",
       "      <th>mean_squared_error</th>\n",
       "      <th>mean_absolute_error</th>\n",
       "      <th>mean_absolute_percentage_error</th>\n",
       "    </tr>\n",
       "  </thead>\n",
       "  <tbody>\n",
       "    <tr>\n",
       "      <th>0</th>\n",
       "      <td>0.440586</td>\n",
       "      <td>0.440586</td>\n",
       "      <td>0.647232</td>\n",
       "      <td>100</td>\n",
       "    </tr>\n",
       "  </tbody>\n",
       "</table>\n",
       "</div>"
      ],
      "text/plain": [
       "       loss  mean_squared_error  mean_absolute_error  \\\n",
       "0  0.440586            0.440586             0.647232   \n",
       "\n",
       "   mean_absolute_percentage_error  \n",
       "0                             100  "
      ]
     },
     "execution_count": 536,
     "metadata": {},
     "output_type": "execute_result"
    }
   ],
   "source": [
    "full_hist"
   ]
  },
  {
   "cell_type": "code",
   "execution_count": 537,
   "metadata": {},
   "outputs": [
    {
     "data": {
      "text/html": [
       "<div>\n",
       "<style scoped>\n",
       "    .dataframe tbody tr th:only-of-type {\n",
       "        vertical-align: middle;\n",
       "    }\n",
       "\n",
       "    .dataframe tbody tr th {\n",
       "        vertical-align: top;\n",
       "    }\n",
       "\n",
       "    .dataframe thead th {\n",
       "        text-align: right;\n",
       "    }\n",
       "</style>\n",
       "<table border=\"1\" class=\"dataframe\">\n",
       "  <thead>\n",
       "    <tr style=\"text-align: right;\">\n",
       "      <th></th>\n",
       "      <th>x0</th>\n",
       "      <th>x1</th>\n",
       "      <th>w</th>\n",
       "      <th>b</th>\n",
       "      <th>l</th>\n",
       "    </tr>\n",
       "  </thead>\n",
       "  <tbody>\n",
       "    <tr>\n",
       "      <th>0</th>\n",
       "      <td>0.5</td>\n",
       "      <td>0.794463</td>\n",
       "      <td>1.352042</td>\n",
       "      <td>0.0</td>\n",
       "      <td>0.440586</td>\n",
       "    </tr>\n",
       "  </tbody>\n",
       "</table>\n",
       "</div>"
      ],
      "text/plain": [
       "    x0        x1         w    b         l\n",
       "0  0.5  0.794463  1.352042  0.0  0.440586"
      ]
     },
     "execution_count": 537,
     "metadata": {},
     "output_type": "execute_result"
    }
   ],
   "source": [
    "xywbl_hist"
   ]
  },
  {
   "cell_type": "code",
   "execution_count": 538,
   "metadata": {},
   "outputs": [
    {
     "name": "stdout",
     "output_type": "stream",
     "text": [
      "[x1,x0] [w, b] [z0, z1] [g(z0), g(z1)] mse\n"
     ]
    },
    {
     "data": {
      "text/plain": [
       "(array([0, 1]),\n",
       " array([1.3520418, 0.       ], dtype=float32),\n",
       " array([0.        , 1.35204184]),\n",
       " array([0.5       , 0.79446324]),\n",
       " 0.4405859227690607,\n",
       " array([1, 0]))"
      ]
     },
     "execution_count": 538,
     "metadata": {},
     "output_type": "execute_result"
    }
   ],
   "source": [
    "neur1_val(my_model, 0, 1, 1, 0, 1)"
   ]
  },
  {
   "cell_type": "code",
   "execution_count": 539,
   "metadata": {},
   "outputs": [],
   "source": [
    "# xy_plot_hist"
   ]
  },
  {
   "cell_type": "code",
   "execution_count": 544,
   "metadata": {},
   "outputs": [
    {
     "data": {
      "image/png": "[encoded data removed]",
      "text/plain": [
       "<Figure size 1296x864 with 4 Axes>"
      ]
     },
     "metadata": {},
     "output_type": "display_data"
    }
   ],
   "source": [
    "#design a loop to have a dynamic view\n",
    "vws = 10\n",
    "epo = 10\n",
    "h = 10\n",
    "hist_dot = np.arange(0, h)\n",
    "pr = len(full_hist)\n",
    "fh = xy_plot_hist.shape[1]\n",
    "\n",
    "for i in range (0, vws+1):\n",
    "    y_pred = my_model.predict(xy.x, verbose = 0)\n",
    "    xy_pred = pd.DataFrame({'x': xy.x, 'y': xy.y, 'y_pred':y_pred.reshape(y_pred.shape[0],)})\n",
    "    x_plot = xy_pred.x\n",
    "    y_plot = xy_pred.y\n",
    "    y_pred_plot = xy_pred.y_pred\n",
    "    xy_plot_hist[str(i+fh-1)] = y_pred_plot\n",
    "    mse = mean_squared_error(xy_pred['y'], xy_pred['y_pred'])\n",
    "    mae = mean_absolute_error(xy_pred['y'], xy_pred['y_pred'])\n",
    "    plt.figure(figsize=(18,12))\n",
    "\n",
    "    plt.subplot(221)\n",
    "    plt.plot(full_hist.loss)\n",
    "    plt.plot(full_hist[-epo:].loss, c='lime')\n",
    "    plt.yscale('log')\n",
    "    plt.xlim(1,)\n",
    "    plt.xlabel(\"epochs\")\n",
    "    plt.ylabel(\"LOG RMSE\")\n",
    "    plt.title('LOSS, total epochs=' + str(len(full_hist)) + '/' + str(pr+(vws)*epo))\n",
    "    plt.subplot(223)\n",
    "    plt.plot(xywbl_hist[['w', 'b']])\n",
    "#     plt.annotate(str(round(full_hist.loss[-1:].values[0],3)), xy=[0.25,0.25], xycoords='figure fraction', size = 20)#[full_hist[-epo:].loss[0],full_hist[-epo:].loss[1]])\n",
    "    plt.xlim(1,)\n",
    "    plt.xlabel(\"epochs\")\n",
    "    plt.ylabel(\"weight and bias values\")\n",
    "    plt.title('W and B')\n",
    "    plt.legend(['w','b'], fontsize = 15)\n",
    "\n",
    "    plt.subplot(222)\n",
    "    plt.scatter(x_plot, y_plot, label='original', marker = 'x', s = 500)\n",
    "    plt.scatter(x_plot, y_pred_plot, label='Predicted', marker = 'o', color = 'r', facecolor = 'none', s = 500)\n",
    "#     plt.scatter(x_plot, xy_plot_hist[[str(i+fh-2)]], label='prev Predicted', s = 100, c='gray')\n",
    "#     plt.scatter(x_plot,  xy_plot_hist[xy_plot_hist.columns[-1:]], label='prev Predicted', s = 100, c='gray')\n",
    "    if i>0:\n",
    "        plt.scatter([0]*min(h,i), xy_plot_hist[xy_plot_hist.columns[-min(h,i):]][0:1], c=hist_dot[0:min(i,h)], cmap='gray_r')\n",
    "        plt.scatter([1]*min(h,i), xy_plot_hist[xy_plot_hist.columns[-min(h,i):]][1:2], c=hist_dot[0:min(i,h)], cmap='gray_r')\n",
    "    plt.annotate('' + str(round(y_pred_plot[0],3)), xy = [0.02, y_pred_plot[0]], size = 30)\n",
    "    plt.annotate('' + str(round(y_pred_plot[1],3)), xy = [0.98, y_pred_plot[1]], size = 30, ha = 'right')\n",
    "    n_w = my_model.get_weights()[0][0][0]\n",
    "    n_b = my_model.get_weights()[1][0]\n",
    "    plt.annotate('w:' + str(round(n_w,3)) + '\\nb:' + str(round(n_b,3)),xy = [0.5, 0.5], size = 20, c='b')    \n",
    "    plt.xlabel('Input Variable (x)')\n",
    "    plt.title('original/predict')\n",
    "    plt.legend(fontsize = 15)\n",
    "    plt.subplot(224)\n",
    "#     plt.scatter(xy_pred['x'], xy_pred['y'] - xy_pred['y_pred'], c = 'red', marker = \"x\", s=5)\n",
    "#     plt.title('Residue' + ' RMSE:' + str(round(mse**0.5, 2)))\n",
    "#     plt.xlabel('Input Variable (x)')\n",
    "    plt.plot(xywbl_hist[['x0', 'x1']])\n",
    "    plt.xlim(1,)\n",
    "    plt.legend(['x0_pred','x1_pred'], fontsize = 15)\n",
    "    rm = 'MSE:' + str(round(mse,2)) + '\\nRMSE:'+str(round(mse**0.5,2))+'\\nMAE:'+str(round(mae,2))\n",
    "#     if i > 1:\n",
    "#         plt.annotate(rm, xy = [0.5, (xy_pred['y'] - xy_pred['y_pred']).mean()])\n",
    "\n",
    "    plt.tight_layout();\n",
    "    \n",
    "    display.display(plt.gcf())\n",
    "    plt.close()\n",
    "    display.clear_output(wait=True)\n",
    "    full_hist = full_hist.append(test_epoch(xy.x, xy.y, epo, 0)).reset_index(drop=True)\n",
    "    \n",
    "    y_pred_hist = y_pred_hist.append(y_pred_plot).reset_index(drop=True)\n",
    "    xywbl_hist = xywbl_hist.append({'x0':y_pred[0][0], 'x1':y_pred[1][0],'w':n_w, 'b':n_b,'l':full_hist.loss[-1:].values[0]}, ignore_index = True)\n",
    "    xywbl_hist.index = xywbl_hist.index * epo"
   ]
  },
  {
   "cell_type": "code",
   "execution_count": 541,
   "metadata": {},
   "outputs": [
    {
     "name": "stdout",
     "output_type": "stream",
     "text": [
      "\n",
      "    MSE: 0.113 \n",
      "   RMSE: 0.336 \n",
      "    MAE: 0.336\n"
     ]
    }
   ],
   "source": [
    "mse = mean_squared_error(xy_pred['y'], xy_pred['y_pred'])\n",
    "mae = mean_absolute_error(xy_pred['y'], xy_pred['y_pred'])\n",
    "print('\\n    MSE: %.3f' % mse, '\\n   RMSE: %.3f' % mse**0.5, '\\n    MAE: %.3f' % mae)"
   ]
  },
  {
   "cell_type": "code",
   "execution_count": null,
   "metadata": {},
   "outputs": [],
   "source": []
  }
 ],
 "metadata": {
  "kernelspec": {
   "display_name": "ML374_up",
   "language": "python",
   "name": "ml374_up"
  },
  "language_info": {
   "codemirror_mode": {
    "name": "ipython",
    "version": 3
   },
   "file_extension": ".py",
   "mimetype": "text/x-python",
   "name": "python",
   "nbconvert_exporter": "python",
   "pygments_lexer": "ipython3",
   "version": "3.7.7"
  }
 },
 "nbformat": 4,
 "nbformat_minor": 5
}
